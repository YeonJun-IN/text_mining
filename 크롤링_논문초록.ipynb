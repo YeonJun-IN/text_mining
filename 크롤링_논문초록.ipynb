{
 "cells": [
  {
   "cell_type": "code",
   "execution_count": null,
   "metadata": {},
   "outputs": [],
   "source": [
    "from selenium import webdriver\n",
    "import time\n",
    "import pandas as pd\n",
    "import numpy as np\n",
    "import re\n",
    "import winsound as ws\n",
    "from konlpy.tag import Kkma,Twitter, Komoran\n",
    "kkma = Kkma()"
   ]
  },
  {
   "cell_type": "code",
   "execution_count": null,
   "metadata": {},
   "outputs": [],
   "source": [
    "path = 'C:/Users/mbnb8/Downloads/chromedriver.exe'\n",
    "\n",
    "driver = webdriver.Chrome(path) \n",
    "\n",
    "driver.get('https://www.ndsl.kr/ndsl/search/list/article/articleSearchResultList.do?dbtype=&dbtype=JAKO&dbtype=JAKO&dbtype=&dbtype=&dbtype=JAKO&dbtype=CFKO&dbtype=&dbtype=&dbtype=JAKO&resultCount=10&prefixQuery=%28%28%3CLANG_PREFIX%3Acontains%3Akor%3E%29%29+%28%28%3CPUBYEAR_PREFIX%3Acontains%3A2019%3E%29%7C%28%3CPUBYEAR_PREFIX%3Acontains%3A2018%3E%29%7C%28%3CPUBYEAR_PREFIX%3Acontains%3A2017%3E%29%7C%28%3CPUBYEAR_PREFIX%3Acontains%3A2016%3E%29%7C%28%3CPUBYEAR_PREFIX%3Acontains%3A2015%3E%29%7C%28%3CPUBYEAR_PREFIX%3Acontains%3A2014%3E%29%7C%28%3CPUBYEAR_PREFIX%3Acontains%3A2013%3E%29%7C%28%3CPUBYEAR_PREFIX%3Acontains%3A2012%3E%29%7C%28%3CPUBYEAR_PREFIX%3Acontains%3A2011%3E%29%7C%28%3CPUBYEAR_PREFIX%3Acontains%3A2010%3E%29%29&filterValue=l_kor%40%40%ED%95%9C%EA%B5%AD%EC%96%B4+%7C%7Cp_2019%40%402019%7C%7Cp_2018%40%402018%7C%7Cp_2017%40%402017%7C%7Cp_2016%40%402016%7C%7Cp_2015%40%402015%7C%7Cp_2014%40%402014%7C%7Cp_2013%40%402013%7C%7Cp_2012%40%402012%7C%7Cp_2011%40%402011%7C%7Cp_2010%40%402010&collectionQuery=&showQuery=%EB%B9%84%EB%A7%8C&query=%EB%B9%84%EB%A7%8C&sortName=RANK&sortOrder=DESC&prefixCount=8810&pageForMoreList=10&detailEnv=1&detail_search_01__input_complex=&detailSearchApplyNum=01&svcCode1=SC&svcCode2=SC05&selectSeq=&colTypeByUser=&pageCode=PG04')"
   ]
  },
  {
   "cell_type": "code",
   "execution_count": null,
   "metadata": {},
   "outputs": [],
   "source": [
    "title = []\n",
    "abstract = []"
   ]
  },
  {
   "cell_type": "code",
   "execution_count": null,
   "metadata": {},
   "outputs": [],
   "source": [
    "for nex in range(30,40):    \n",
    "    if nex > 0:\n",
    "        for page in range(4,14):\n",
    "            for i in range(1,11):\n",
    "                #초록이 없는 경우는 어떡할래?\n",
    "                try:\n",
    "                    driver.find_elements_by_xpath('''//*[@id=\"result_list\"]/li['''+str(i)+''']/div[2]/ul/li[6]/a/span''')[0].click()\n",
    "                except:\n",
    "                    try :\n",
    "                        driver.find_elements_by_xpath('''//*[@id=\"result_list\"]/li['''+str(i)+''']/div[2]/ul/li[5]/a/span''')[0].click()\n",
    "                    except:\n",
    "                        continue\n",
    "                    \n",
    "                \n",
    "            for i in range(10):\n",
    "                abstract += [driver.find_elements_by_class_name(\"box_st1\")[3*i].text]\n",
    "                title += [driver.find_elements_by_class_name(\"list_con\")[i].text]\n",
    "\n",
    "            driver.find_elements_by_xpath('''//*[@id=\"srchFrm\"]/div[5]/ul/li['''+str(page)+''']/a''')[0].click()    \n",
    "            time.sleep(1)\n",
    "    else :\n",
    "        for page in range(2,13):\n",
    "            driver.find_elements_by_xpath('''//*[@id=\"srchFrm\"]/div[5]/ul/li['''+str(page)+''']/a''')[0].click()\n",
    "            time.sleep(1)\n",
    "            \n",
    "            for i in range(1,11):\n",
    "                    try:\n",
    "                        driver.find_elements_by_xpath('''//*[@id=\"result_list\"]/li['''+str(i)+''']/div[2]/ul/li[6]/a/span''')[0].click()\n",
    "                    except IndexError:\n",
    "                        driver.find_elements_by_xpath('''//*[@id=\"result_list\"]/li['''+str(i)+''']/div[2]/ul/li[5]/a/span''')[0].click()\n",
    "    \n",
    "            for i in range(10):\n",
    "                abstract += [driver.find_elements_by_class_name(\"box_st1\")[3*i].text]\n",
    "                title += [driver.find_elements_by_class_name(\"list_con\")[i].text]\n",
    "            \n",
    "    "
   ]
  },
  {
   "cell_type": "code",
   "execution_count": null,
   "metadata": {},
   "outputs": [],
   "source": [
    "title_real = []\n",
    "abstract_real = []\n",
    "for a, b in zip(title, abstract):\n",
    "    title_real += [a.split('\\n')[0].split('   ')[1]]\n",
    "    abstract_real += [b.replace('초록\\n','')]\n",
    "\n",
    "del(title)\n",
    "del(abstract)"
   ]
  },
  {
   "cell_type": "code",
   "execution_count": null,
   "metadata": {},
   "outputs": [],
   "source": [
    "biman_abstract = [abstract_real[i] for i, x in enumerate(title_real) if '비만' in x]\n",
    "biman_title = [x for i, x in enumerate(title_real) if '비만' in x]"
   ]
  },
  {
   "cell_type": "code",
   "execution_count": null,
   "metadata": {},
   "outputs": [],
   "source": [
    "title_new = []\n",
    "for ab in title_real:\n",
    "    a = re.sub('\\n',' ',ab) # \\r\\n 제거\n",
    "    b = re.sub('[-=+,#/\\?:^$.@*\\\"※~&%ㆍ!』\\\\‘|\\(\\)\\[\\]\\<\\>`\\'…》]',' ',a) # 특수문자 제거\n",
    "    title_new += [b]\n",
    "\n",
    "del(title_real)\n",
    "\n",
    "abs_new = []\n",
    "for ab in abstract_real:\n",
    "    a = re.sub('\\n',' ',ab) # \\r\\n 제거\n",
    "    b = re.sub('[-=+,#/\\?:^$.@*\\\"※~&%ㆍ!』\\\\‘|\\(\\)\\[\\]\\<\\>`\\'…》]',' ',a) # 특수문자 제거\n",
    "    abs_new += [b]\n",
    "\n",
    "del(abstract_real)"
   ]
  },
  {
   "cell_type": "markdown",
   "metadata": {},
   "source": [
    "## POS-tagging : 명사, 고유 명사"
   ]
  },
  {
   "cell_type": "code",
   "execution_count": null,
   "metadata": {},
   "outputs": [],
   "source": [
    "data = []\n",
    "for ab in abs_new:\n",
    "    pos = kkma.pos(ab)\n",
    "    nouns = []\n",
    "    for keyword, type in pos:\n",
    "        if type=='NNG' or type == 'NNP':\n",
    "            nouns.append(keyword)\n",
    "    data += [nouns]"
   ]
  },
  {
   "cell_type": "code",
   "execution_count": null,
   "metadata": {},
   "outputs": [],
   "source": [
    "pd.DataFrame({'word' : data}).to_csv('abstract4.csv',encoding='ms949')"
   ]
  },
  {
   "cell_type": "code",
   "execution_count": null,
   "metadata": {},
   "outputs": [],
   "source": []
  },
  {
   "cell_type": "code",
   "execution_count": null,
   "metadata": {},
   "outputs": [],
   "source": []
  },
  {
   "cell_type": "code",
   "execution_count": null,
   "metadata": {},
   "outputs": [],
   "source": []
  },
  {
   "cell_type": "code",
   "execution_count": null,
   "metadata": {},
   "outputs": [],
   "source": []
  },
  {
   "cell_type": "code",
   "execution_count": null,
   "metadata": {},
   "outputs": [],
   "source": []
  }
 ],
 "metadata": {
  "kernelspec": {
   "display_name": "Python 3",
   "language": "python",
   "name": "python3"
  },
  "language_info": {
   "codemirror_mode": {
    "name": "ipython",
    "version": 3
   },
   "file_extension": ".py",
   "mimetype": "text/x-python",
   "name": "python",
   "nbconvert_exporter": "python",
   "pygments_lexer": "ipython3",
   "version": "3.7.3"
  }
 },
 "nbformat": 4,
 "nbformat_minor": 2
}
