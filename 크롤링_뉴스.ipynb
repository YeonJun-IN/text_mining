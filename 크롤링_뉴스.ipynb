{
 "cells": [
  {
   "cell_type": "code",
   "execution_count": 1,
   "metadata": {},
   "outputs": [],
   "source": [
    "from selenium import webdriver\n",
    "import time\n",
    "import pandas as pd\n",
    "import numpy as np\n",
    "import re\n",
    "import random\n",
    "import winsound as ws"
   ]
  },
  {
   "cell_type": "code",
   "execution_count": 2,
   "metadata": {},
   "outputs": [],
   "source": [
    "def beepsound():\n",
    "    freq = 3000\n",
    "    dur = 1000\n",
    "    ws.Beep(freq,dur)"
   ]
  },
  {
   "cell_type": "code",
   "execution_count": 3,
   "metadata": {},
   "outputs": [],
   "source": [
    "path = 'C:/Users/mbnb8/Downloads/chromedriver.exe'\n",
    "\n",
    "driver = webdriver.Chrome(path) \n",
    "\n",
    "driver.get('http://www.k-health.com/news/articleList.html')"
   ]
  },
  {
   "cell_type": "code",
   "execution_count": 5,
   "metadata": {},
   "outputs": [
    {
     "name": "stdout",
     "output_type": "stream",
     "text": [
      "None\n"
     ]
    }
   ],
   "source": [
    "#1~10 페이지\n",
    "\n",
    "news = []\n",
    "for i in range(11+1):\n",
    "        driver.find_elements_by_class_name(\"list-block\")[i].click()\n",
    "        news += [driver.find_elements_by_class_name(\"user-snb-wrapper\")[0].text]\n",
    "        driver.back()\n",
    "        #time.sleep(random.randrange(1,10))    \n",
    "\n",
    "for j in [3,5,6,7,8,9,10,11,12,14]:\n",
    "    driver.find_elements_by_xpath(\"\"\"//*[@id=\"user-container\"]/div[3]/div[2]/section/article/div[2]/div[2]/ul/li[\"\"\"+str(j)+\"\"\"]/a\"\"\")[0].click()\n",
    "    for i in range(12):\n",
    "        driver.find_elements_by_class_name(\"list-block\")[i].click()\n",
    "        news += [driver.find_elements_by_class_name(\"user-snb-wrapper\")[0].text]\n",
    "        driver.back()\n",
    "\n",
    "for run in range(11):\n",
    "    try:\n",
    "        for j in [5,6,7,8,9,10,11,12,13,15]:\n",
    "            driver.find_elements_by_xpath(\"\"\"//*[@id=\"user-container\"]/div[3]/div[2]/section/article/div[2]/div[2]/ul/li[\"\"\"+str(j)+\"\"\"]/a\"\"\")[0].click()\n",
    "            for i in range(12):\n",
    "                driver.find_elements_by_class_name(\"list-block\")[i].click()\n",
    "                news += [driver.find_elements_by_class_name(\"user-snb-wrapper\")[0].text]\n",
    "                driver.back()\n",
    "        break\n",
    "    \n",
    "    except:\n",
    "        print(beepsound())\n",
    "        continue\n",
    "        \n",
    "print(beepsound())"
   ]
  },
  {
   "cell_type": "code",
   "execution_count": 11,
   "metadata": {},
   "outputs": [
    {
     "name": "stdout",
     "output_type": "stream",
     "text": [
      "None\n"
     ]
    }
   ],
   "source": [
    "for run in range(10):\n",
    "    try:\n",
    "        for j in [5,6,7,8,9,10,11,12,13,15]:\n",
    "            driver.find_elements_by_xpath(\"\"\"//*[@id=\"user-container\"]/div[3]/div[2]/section/article/div[2]/div[2]/ul/li[\"\"\"+str(j)+\"\"\"]/a\"\"\")[0].click()\n",
    "            for i in range(12):\n",
    "                driver.find_elements_by_class_name(\"list-block\")[i].click()\n",
    "                news += [driver.find_elements_by_class_name(\"user-snb-wrapper\")[0].text]\n",
    "                driver.back()\n",
    "        break\n",
    "    \n",
    "    except:\n",
    "        print(beepsound())\n",
    "        continue\n",
    "\n",
    "print(beepsound())"
   ]
  },
  {
   "cell_type": "code",
   "execution_count": 12,
   "metadata": {
    "scrolled": true
   },
   "outputs": [
    {
     "data": {
      "text/plain": [
       "612"
      ]
     },
     "execution_count": 12,
     "metadata": {},
     "output_type": "execute_result"
    }
   ],
   "source": [
    "len(news)"
   ]
  },
  {
   "cell_type": "code",
   "execution_count": 13,
   "metadata": {},
   "outputs": [],
   "source": [
    "newss = np.unique(news)"
   ]
  },
  {
   "cell_type": "code",
   "execution_count": 14,
   "metadata": {
    "scrolled": true
   },
   "outputs": [
    {
     "data": {
      "text/plain": [
       "612"
      ]
     },
     "execution_count": 14,
     "metadata": {},
     "output_type": "execute_result"
    }
   ],
   "source": [
    "len(newss)"
   ]
  },
  {
   "cell_type": "code",
   "execution_count": 15,
   "metadata": {},
   "outputs": [],
   "source": [
    "import time\n",
    "from konlpy.tag import Kkma,Twitter, Komoran\n",
    "import pandas as pd\n",
    "import numpy as np"
   ]
  },
  {
   "cell_type": "code",
   "execution_count": 16,
   "metadata": {},
   "outputs": [],
   "source": [
    "news_new = []\n",
    "for new in newss:\n",
    "    a = re.sub('\\n',' ',new) # \\r\\n 제거\n",
    "    b = re.sub('[-=+,#/\\?:^$.@*\\\"※~&%ㆍ!』\\\\‘|\\(\\)\\[\\]\\<\\>`\\'…》]',' ',a) # 특수문자 제거\n",
    "    news_new += [b]"
   ]
  },
  {
   "cell_type": "code",
   "execution_count": 17,
   "metadata": {},
   "outputs": [],
   "source": [
    "kkma = Kkma()"
   ]
  },
  {
   "cell_type": "code",
   "execution_count": 21,
   "metadata": {},
   "outputs": [
    {
     "name": "stdout",
     "output_type": "stream",
     "text": [
      "None\n"
     ]
    }
   ],
   "source": [
    "data = []\n",
    "for new in news_new:\n",
    "    pos = kkma.pos(new)\n",
    "    nouns = []\n",
    "    for keyword, type in pos:\n",
    "        if type=='NNG' or type == 'NNP':\n",
    "            nouns.append(keyword)\n",
    "    data += [nouns]\n",
    "    \n",
    "print(beepsound())"
   ]
  },
  {
   "cell_type": "code",
   "execution_count": 22,
   "metadata": {},
   "outputs": [],
   "source": [
    "L = [item for sublist in data for item in sublist]"
   ]
  },
  {
   "cell_type": "code",
   "execution_count": 23,
   "metadata": {},
   "outputs": [],
   "source": [
    "corpus = np.unique(L)"
   ]
  },
  {
   "cell_type": "code",
   "execution_count": 32,
   "metadata": {},
   "outputs": [],
   "source": [
    "a = pd.DataFrame({'voc' : corpus})"
   ]
  },
  {
   "cell_type": "code",
   "execution_count": null,
   "metadata": {},
   "outputs": [],
   "source": []
  },
  {
   "cell_type": "code",
   "execution_count": null,
   "metadata": {},
   "outputs": [],
   "source": []
  },
  {
   "cell_type": "code",
   "execution_count": null,
   "metadata": {},
   "outputs": [],
   "source": []
  },
  {
   "cell_type": "code",
   "execution_count": null,
   "metadata": {},
   "outputs": [],
   "source": []
  },
  {
   "cell_type": "code",
   "execution_count": null,
   "metadata": {},
   "outputs": [],
   "source": []
  },
  {
   "cell_type": "code",
   "execution_count": null,
   "metadata": {},
   "outputs": [],
   "source": []
  },
  {
   "cell_type": "code",
   "execution_count": null,
   "metadata": {},
   "outputs": [],
   "source": []
  },
  {
   "cell_type": "code",
   "execution_count": null,
   "metadata": {},
   "outputs": [],
   "source": []
  },
  {
   "cell_type": "code",
   "execution_count": null,
   "metadata": {},
   "outputs": [],
   "source": []
  },
  {
   "cell_type": "code",
   "execution_count": null,
   "metadata": {},
   "outputs": [],
   "source": []
  },
  {
   "cell_type": "code",
   "execution_count": null,
   "metadata": {},
   "outputs": [],
   "source": []
  },
  {
   "cell_type": "code",
   "execution_count": null,
   "metadata": {},
   "outputs": [],
   "source": []
  }
 ],
 "metadata": {
  "kernelspec": {
   "display_name": "Python 3",
   "language": "python",
   "name": "python3"
  },
  "language_info": {
   "codemirror_mode": {
    "name": "ipython",
    "version": 3
   },
   "file_extension": ".py",
   "mimetype": "text/x-python",
   "name": "python",
   "nbconvert_exporter": "python",
   "pygments_lexer": "ipython3",
   "version": "3.7.3"
  }
 },
 "nbformat": 4,
 "nbformat_minor": 2
}
